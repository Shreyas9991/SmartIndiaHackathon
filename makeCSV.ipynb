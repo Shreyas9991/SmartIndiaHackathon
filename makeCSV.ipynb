{
 "cells": [
  {
   "cell_type": "code",
   "execution_count": 21,
   "metadata": {},
   "outputs": [],
   "source": [
    "import json, csv, sys"
   ]
  },
  {
   "cell_type": "code",
   "execution_count": 22,
   "metadata": {},
   "outputs": [],
   "source": [
    "from pprint import pprint"
   ]
  },
  {
   "cell_type": "code",
   "execution_count": 120,
   "metadata": {},
   "outputs": [],
   "source": [
    "import json\n",
    "import urllib\n",
    "import requests\n",
    "from newspaper import Article"
   ]
  },
  {
   "cell_type": "code",
   "execution_count": 141,
   "metadata": {},
   "outputs": [],
   "source": [
    "news=requests.get('https://newsapi.org/v2/top-headlines?sources=google-news-in&apiKey=2793f8cd49ad43b680fcd847b0226f65').json()"
   ]
  },
  {
   "cell_type": "code",
   "execution_count": 139,
   "metadata": {},
   "outputs": [],
   "source": [
    "#print(news['articles'][9]['url'][12:])"
   ]
  },
  {
   "cell_type": "code",
   "execution_count": 145,
   "metadata": {
    "scrolled": false
   },
   "outputs": [],
   "source": [
    "with open('datasetLive.csv','a',newline='',encoding=\"utf-16\") as csvFile:\n",
    "    writer=csv.writer(csvFile)\n",
    "    #writer.writerow([\"Content\",\"Url\",\"Date\",\"Time\"])\n",
    "    for line in range(news['totalResults']):\n",
    "        a=Article(news['articles'][line]['url'],language='en')\n",
    "        a.download()\n",
    "        a.parse()\n",
    "        a.text=a.text.replace('\\n',' ')\n",
    "        #print(a.text)\n",
    "        writer.writerow([a.text,news['articles'][line]['url'],news['articles'][line]['publishedAt'][0:10],news['articles'][line]['publishedAt'][12:]])\n",
    "csvFile.close()"
   ]
  },
  {
   "cell_type": "raw",
   "metadata": {},
   "source": []
  },
  {
   "cell_type": "code",
   "execution_count": 19,
   "metadata": {},
   "outputs": [],
   "source": []
  },
  {
   "cell_type": "code",
   "execution_count": 20,
   "metadata": {},
   "outputs": [
    {
     "name": "stdout",
     "output_type": "stream",
     "text": [
      "<bound method Response.json of <Response [401]>>\n"
     ]
    }
   ],
   "source": []
  },
  {
   "cell_type": "code",
   "execution_count": null,
   "metadata": {},
   "outputs": [],
   "source": []
  }
 ],
 "metadata": {
  "kernelspec": {
   "display_name": "Python 3",
   "language": "python",
   "name": "python3"
  },
  "language_info": {
   "codemirror_mode": {
    "name": "ipython",
    "version": 3
   },
   "file_extension": ".py",
   "mimetype": "text/x-python",
   "name": "python",
   "nbconvert_exporter": "python",
   "pygments_lexer": "ipython3",
   "version": "3.7.1"
  }
 },
 "nbformat": 4,
 "nbformat_minor": 2
}
